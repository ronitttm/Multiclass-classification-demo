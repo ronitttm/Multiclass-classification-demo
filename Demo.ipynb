{
 "cells": [
  {
   "cell_type": "code",
   "execution_count": 29,
   "id": "460b6319",
   "metadata": {},
   "outputs": [
    {
     "name": "stdout",
     "output_type": "stream",
     "text": [
      "Prediction (OvR): virginica\n",
      "Prediction (OvO): virginica\n",
      "\n",
      "Accuracy (OvR): 97.0\n",
      "Accuracy (OvO): 97.0\n"
     ]
    }
   ],
   "source": [
    "from sklearn import datasets\n",
    "from sklearn.model_selection import train_test_split\n",
    "from sklearn.preprocessing import StandardScaler\n",
    "from sklearn.svm import SVC\n",
    "from sklearn.metrics import accuracy_score\n",
    "\n",
    "iris = datasets.load_iris()\n",
    "X = iris.data\n",
    "y = iris.target\n",
    "\n",
    "X_train, X_test, y_train, y_test = train_test_split(X, y, test_size=0.2, random_state=42)\n",
    "\n",
    "#Standardize the features\n",
    "scaler = StandardScaler()\n",
    "X_train_scaled = scaler.fit_transform(X_train)\n",
    "X_test_scaled = scaler.transform(X_test)\n",
    "\n",
    "#Support Vector Machine (SVM) classifier with OvR strategy\n",
    "svm_ovr_model = SVC(kernel='linear', decision_function_shape='ovr', random_state=42)\n",
    "svm_ovr_model.fit(X_train_scaled, y_train)\n",
    "\n",
    "#Support Vector Machine (SVM) classifier with OvO strategy\n",
    "svm_ovo_model = SVC(kernel='linear', decision_function_shape='ovo', random_state=42)\n",
    "svm_ovo_model.fit(X_train_scaled, y_train)\n",
    "\n",
    "#Example of entirely new input for prediction\n",
    "new_data = [[1, 2.5, 1.4, 7]]  # You can provide your own values for a new sample\n",
    "\n",
    "# Standardize the new input using the same scaler\n",
    "new_data_scaled = scaler.transform(new_data)\n",
    "\n",
    "#Predict the class using OvR strategy\n",
    "prediction_ovr = svm_ovr_model.predict(new_data_scaled)\n",
    "print(\"Prediction (OvR):\", iris.target_names[prediction_ovr][0])\n",
    "\n",
    "#Predict the class using OvO strategy\n",
    "prediction_ovo = svm_ovo_model.predict(new_data_scaled)\n",
    "print(\"Prediction (OvO):\", iris.target_names[prediction_ovo][0])\n",
    "\n",
    "#Evaluate the performance with accuracy scores\n",
    "y_pred_ovr = svm_ovr_model.predict(X_test_scaled)\n",
    "accuracy_ovr = accuracy_score(y_test, y_pred_ovr)\n",
    "print(\"\\nAccuracy (OvR):\", round(accuracy_ovr,2)*100)\n",
    "\n",
    "y_pred_ovo = svm_ovo_model.predict(X_test_scaled)\n",
    "accuracy_ovo = accuracy_score(y_test, y_pred_ovo)\n",
    "print(\"Accuracy (OvO):\", round(accuracy_ovo,2)*100)\n"
   ]
  }
 ],
 "metadata": {
  "kernelspec": {
   "display_name": "Python 3 (ipykernel)",
   "language": "python",
   "name": "python3"
  },
  "language_info": {
   "codemirror_mode": {
    "name": "ipython",
    "version": 3
   },
   "file_extension": ".py",
   "mimetype": "text/x-python",
   "name": "python",
   "nbconvert_exporter": "python",
   "pygments_lexer": "ipython3",
   "version": "3.10.11"
  }
 },
 "nbformat": 4,
 "nbformat_minor": 5
}
